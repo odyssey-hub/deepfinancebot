{
 "cells": [
  {
   "cell_type": "code",
   "execution_count": 1,
   "metadata": {
    "collapsed": true,
    "pycharm": {
     "name": "#%%\n"
    }
   },
   "outputs": [],
   "source": [
    "from app import project_dir\n",
    "import os\n",
    "import sqlite3"
   ]
  },
  {
   "cell_type": "code",
   "execution_count": 2,
   "outputs": [],
   "source": [
    "with open(os.path.join(project_dir, 'chatbot', 'db', 'tickers', 'tickers_big.txt'), 'r') as file:\n",
    "    tickers = file.read().splitlines()"
   ],
   "metadata": {
    "collapsed": false,
    "pycharm": {
     "name": "#%%\n"
    }
   }
  },
  {
   "cell_type": "code",
   "execution_count": 3,
   "outputs": [],
   "source": [
    "con = sqlite3.connect(os.path.join(project_dir, 'BotDB.db'))\n",
    "cursor = con.cursor()"
   ],
   "metadata": {
    "collapsed": false,
    "pycharm": {
     "name": "#%%\n"
    }
   }
  },
  {
   "cell_type": "code",
   "execution_count": 4,
   "outputs": [],
   "source": [
    "import pandas as pd"
   ],
   "metadata": {
    "collapsed": false,
    "pycharm": {
     "name": "#%%\n"
    }
   }
  },
  {
   "cell_type": "code",
   "execution_count": 6,
   "outputs": [
    {
     "data": {
      "text/plain": "      ticker                 date timeframe\n0       LKOH  2023-06-06 00:00:00         d\n1       VTBR  2023-06-06 00:00:00         d\n2       SBER  2023-06-06 00:00:00         d\n3       FLOT  2023-06-06 00:00:00         d\n4       MTSS  2023-06-06 00:00:00         d\n..       ...                  ...       ...\n239     URKZ  2023-06-06 00:00:00         d\n240    VSYDP  2023-06-06 00:00:00         d\n241    YKENP  2023-06-06 00:00:00         d\n242     ASSB  2023-06-06 00:00:00         d\n243  VEON-RX  2023-06-06 00:00:00         d\n\n[244 rows x 3 columns]",
      "text/html": "<div>\n<style scoped>\n    .dataframe tbody tr th:only-of-type {\n        vertical-align: middle;\n    }\n\n    .dataframe tbody tr th {\n        vertical-align: top;\n    }\n\n    .dataframe thead th {\n        text-align: right;\n    }\n</style>\n<table border=\"1\" class=\"dataframe\">\n  <thead>\n    <tr style=\"text-align: right;\">\n      <th></th>\n      <th>ticker</th>\n      <th>date</th>\n      <th>timeframe</th>\n    </tr>\n  </thead>\n  <tbody>\n    <tr>\n      <th>0</th>\n      <td>LKOH</td>\n      <td>2023-06-06 00:00:00</td>\n      <td>d</td>\n    </tr>\n    <tr>\n      <th>1</th>\n      <td>VTBR</td>\n      <td>2023-06-06 00:00:00</td>\n      <td>d</td>\n    </tr>\n    <tr>\n      <th>2</th>\n      <td>SBER</td>\n      <td>2023-06-06 00:00:00</td>\n      <td>d</td>\n    </tr>\n    <tr>\n      <th>3</th>\n      <td>FLOT</td>\n      <td>2023-06-06 00:00:00</td>\n      <td>d</td>\n    </tr>\n    <tr>\n      <th>4</th>\n      <td>MTSS</td>\n      <td>2023-06-06 00:00:00</td>\n      <td>d</td>\n    </tr>\n    <tr>\n      <th>...</th>\n      <td>...</td>\n      <td>...</td>\n      <td>...</td>\n    </tr>\n    <tr>\n      <th>239</th>\n      <td>URKZ</td>\n      <td>2023-06-06 00:00:00</td>\n      <td>d</td>\n    </tr>\n    <tr>\n      <th>240</th>\n      <td>VSYDP</td>\n      <td>2023-06-06 00:00:00</td>\n      <td>d</td>\n    </tr>\n    <tr>\n      <th>241</th>\n      <td>YKENP</td>\n      <td>2023-06-06 00:00:00</td>\n      <td>d</td>\n    </tr>\n    <tr>\n      <th>242</th>\n      <td>ASSB</td>\n      <td>2023-06-06 00:00:00</td>\n      <td>d</td>\n    </tr>\n    <tr>\n      <th>243</th>\n      <td>VEON-RX</td>\n      <td>2023-06-06 00:00:00</td>\n      <td>d</td>\n    </tr>\n  </tbody>\n</table>\n<p>244 rows × 3 columns</p>\n</div>"
     },
     "execution_count": 6,
     "metadata": {},
     "output_type": "execute_result"
    }
   ],
   "source": [
    "date = '2023-06-06 00:00:00'\n",
    "df = pd.DataFrame()\n",
    "df['ticker'] = tickers\n",
    "df['date'] = date\n",
    "df['timeframe'] = 'd'\n",
    "df"
   ],
   "metadata": {
    "collapsed": false,
    "pycharm": {
     "name": "#%%\n"
    }
   }
  },
  {
   "cell_type": "code",
   "execution_count": 7,
   "outputs": [],
   "source": [
    "df.to_sql(name='tickers', con=con, index=False)"
   ],
   "metadata": {
    "collapsed": false,
    "pycharm": {
     "name": "#%%\n"
    }
   }
  },
  {
   "cell_type": "code",
   "execution_count": null,
   "outputs": [],
   "source": [],
   "metadata": {
    "collapsed": false,
    "pycharm": {
     "name": "#%%\n"
    }
   }
  }
 ],
 "metadata": {
  "kernelspec": {
   "display_name": "Python 3",
   "language": "python",
   "name": "python3"
  },
  "language_info": {
   "codemirror_mode": {
    "name": "ipython",
    "version": 2
   },
   "file_extension": ".py",
   "mimetype": "text/x-python",
   "name": "python",
   "nbconvert_exporter": "python",
   "pygments_lexer": "ipython2",
   "version": "2.7.6"
  }
 },
 "nbformat": 4,
 "nbformat_minor": 0
}