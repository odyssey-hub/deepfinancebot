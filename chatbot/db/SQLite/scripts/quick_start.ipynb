{
 "cells": [
  {
   "cell_type": "code",
   "execution_count": 1,
   "outputs": [],
   "source": [
    "import sqlite3"
   ],
   "metadata": {
    "collapsed": false,
    "pycharm": {
     "name": "#%%\n"
    }
   }
  },
  {
   "cell_type": "code",
   "execution_count": 2,
   "outputs": [],
   "source": [
    "from app import project_dir"
   ],
   "metadata": {
    "collapsed": false,
    "pycharm": {
     "name": "#%%\n"
    }
   }
  },
  {
   "cell_type": "code",
   "execution_count": 3,
   "outputs": [],
   "source": [
    "con = sqlite3.connect(\"ts.db\")"
   ],
   "metadata": {
    "collapsed": false,
    "pycharm": {
     "name": "#%%\n"
    }
   }
  },
  {
   "cell_type": "code",
   "execution_count": 4,
   "outputs": [],
   "source": [
    "cursor = con.cursor()"
   ],
   "metadata": {
    "collapsed": false,
    "pycharm": {
     "name": "#%%\n"
    }
   }
  },
  {
   "cell_type": "code",
   "execution_count": 6,
   "outputs": [
    {
     "data": {
      "text/plain": "<sqlite3.Cursor at 0x234c7b31840>"
     },
     "execution_count": 6,
     "metadata": {},
     "output_type": "execute_result"
    }
   ],
   "source": [
    "cursor.execute(\"\"\"CREATE TABLE LKOH\n",
    "                (id INTEGER PRIMARY KEY AUTOINCREMENT,\n",
    "                begin TEXT,\n",
    "                timeframe TEXT,\n",
    "                high REAL,\n",
    "                close REAL,\n",
    "                low REAL,\n",
    "                open REAL,\n",
    "                volume REAL)\n",
    "            \"\"\")"
   ],
   "metadata": {
    "collapsed": false,
    "pycharm": {
     "name": "#%%\n"
    }
   }
  },
  {
   "cell_type": "code",
   "execution_count": 14,
   "outputs": [],
   "source": [
    "cursor = con.cursor()\n",
    "params = ('01-01-2020', 'd', 172.45, 174.56, 138.32, 156.7, 55454353)\n",
    "cursor.execute(\"INSERT INTO LKOH (begin, timeframe, close, high, open, low, volume) VALUES (?, ?, ?, ?, ?, ?, ?)\", params)\n",
    "con.commit()"
   ],
   "metadata": {
    "collapsed": false,
    "pycharm": {
     "name": "#%%\n"
    }
   }
  },
  {
   "cell_type": "code",
   "execution_count": 16,
   "outputs": [],
   "source": [
    "from finance.FinTimeSeries import FinTimeSeries\n",
    "\n",
    "ts = FinTimeSeries('SBER', 24, '2022.01.01', '2023.01.01')\n",
    "ts.data.to_sql(name='VTBR', con=con, index=False)"
   ],
   "metadata": {
    "collapsed": false,
    "pycharm": {
     "name": "#%%\n"
    }
   }
  },
  {
   "cell_type": "code",
   "execution_count": 17,
   "outputs": [],
   "source": [
    "import pandas as pd"
   ],
   "metadata": {
    "collapsed": false,
    "pycharm": {
     "name": "#%%\n"
    }
   }
  },
  {
   "cell_type": "code",
   "execution_count": 18,
   "outputs": [
    {
     "data": {
      "text/plain": "                   begin    open    high     low   close    volume\n0    2022-01-03 00:00:00  295.90  305.50  294.34  305.47  50183170\n1    2022-01-04 00:00:00  305.51  310.10  301.63  304.24  53270410\n2    2022-01-05 00:00:00  303.72  304.26  287.00  287.01  70017630\n3    2022-01-06 00:00:00  286.60  295.10  281.00  293.92  79380930\n4    2022-01-10 00:00:00  295.52  298.88  288.68  291.69  67426550\n..                   ...     ...     ...     ...     ...       ...\n229  2022-12-26 00:00:00  138.33  141.00  138.00  140.95  49379370\n230  2022-12-27 00:00:00  141.31  142.00  139.60  139.90  41654530\n231  2022-12-28 00:00:00  139.73  140.40  138.60  139.51  28045010\n232  2022-12-29 00:00:00  139.50  141.65  139.22  140.96  32059860\n233  2022-12-30 00:00:00  140.80  141.48  140.13  141.15  28175080\n\n[234 rows x 6 columns]",
      "text/html": "<div>\n<style scoped>\n    .dataframe tbody tr th:only-of-type {\n        vertical-align: middle;\n    }\n\n    .dataframe tbody tr th {\n        vertical-align: top;\n    }\n\n    .dataframe thead th {\n        text-align: right;\n    }\n</style>\n<table border=\"1\" class=\"dataframe\">\n  <thead>\n    <tr style=\"text-align: right;\">\n      <th></th>\n      <th>begin</th>\n      <th>open</th>\n      <th>high</th>\n      <th>low</th>\n      <th>close</th>\n      <th>volume</th>\n    </tr>\n  </thead>\n  <tbody>\n    <tr>\n      <th>0</th>\n      <td>2022-01-03 00:00:00</td>\n      <td>295.90</td>\n      <td>305.50</td>\n      <td>294.34</td>\n      <td>305.47</td>\n      <td>50183170</td>\n    </tr>\n    <tr>\n      <th>1</th>\n      <td>2022-01-04 00:00:00</td>\n      <td>305.51</td>\n      <td>310.10</td>\n      <td>301.63</td>\n      <td>304.24</td>\n      <td>53270410</td>\n    </tr>\n    <tr>\n      <th>2</th>\n      <td>2022-01-05 00:00:00</td>\n      <td>303.72</td>\n      <td>304.26</td>\n      <td>287.00</td>\n      <td>287.01</td>\n      <td>70017630</td>\n    </tr>\n    <tr>\n      <th>3</th>\n      <td>2022-01-06 00:00:00</td>\n      <td>286.60</td>\n      <td>295.10</td>\n      <td>281.00</td>\n      <td>293.92</td>\n      <td>79380930</td>\n    </tr>\n    <tr>\n      <th>4</th>\n      <td>2022-01-10 00:00:00</td>\n      <td>295.52</td>\n      <td>298.88</td>\n      <td>288.68</td>\n      <td>291.69</td>\n      <td>67426550</td>\n    </tr>\n    <tr>\n      <th>...</th>\n      <td>...</td>\n      <td>...</td>\n      <td>...</td>\n      <td>...</td>\n      <td>...</td>\n      <td>...</td>\n    </tr>\n    <tr>\n      <th>229</th>\n      <td>2022-12-26 00:00:00</td>\n      <td>138.33</td>\n      <td>141.00</td>\n      <td>138.00</td>\n      <td>140.95</td>\n      <td>49379370</td>\n    </tr>\n    <tr>\n      <th>230</th>\n      <td>2022-12-27 00:00:00</td>\n      <td>141.31</td>\n      <td>142.00</td>\n      <td>139.60</td>\n      <td>139.90</td>\n      <td>41654530</td>\n    </tr>\n    <tr>\n      <th>231</th>\n      <td>2022-12-28 00:00:00</td>\n      <td>139.73</td>\n      <td>140.40</td>\n      <td>138.60</td>\n      <td>139.51</td>\n      <td>28045010</td>\n    </tr>\n    <tr>\n      <th>232</th>\n      <td>2022-12-29 00:00:00</td>\n      <td>139.50</td>\n      <td>141.65</td>\n      <td>139.22</td>\n      <td>140.96</td>\n      <td>32059860</td>\n    </tr>\n    <tr>\n      <th>233</th>\n      <td>2022-12-30 00:00:00</td>\n      <td>140.80</td>\n      <td>141.48</td>\n      <td>140.13</td>\n      <td>141.15</td>\n      <td>28175080</td>\n    </tr>\n  </tbody>\n</table>\n<p>234 rows × 6 columns</p>\n</div>"
     },
     "execution_count": 18,
     "metadata": {},
     "output_type": "execute_result"
    }
   ],
   "source": [
    "df = pd.read_sql('select * from VTBR', con=con)\n",
    "df"
   ],
   "metadata": {
    "collapsed": false,
    "pycharm": {
     "name": "#%%\n"
    }
   }
  },
  {
   "cell_type": "code",
   "execution_count": 21,
   "outputs": [
    {
     "data": {
      "text/plain": "begin      object\nopen      float64\nhigh      float64\nlow       float64\nclose     float64\nvolume      int64\ndtype: object"
     },
     "execution_count": 21,
     "metadata": {},
     "output_type": "execute_result"
    }
   ],
   "source": [
    "df.dtypes"
   ],
   "metadata": {
    "collapsed": false,
    "pycharm": {
     "name": "#%%\n"
    }
   }
  },
  {
   "cell_type": "code",
   "execution_count": 22,
   "outputs": [
    {
     "data": {
      "text/plain": "begin      object\nopen      float64\nhigh      float64\nlow       float64\nclose     float64\nvolume      int64\ndtype: object"
     },
     "execution_count": 22,
     "metadata": {},
     "output_type": "execute_result"
    }
   ],
   "source": [
    "ts = FinTimeSeries('SBER', 24, '2022.01.01', '2023.01.01')\n",
    "ts.data.dtypes"
   ],
   "metadata": {
    "collapsed": false,
    "pycharm": {
     "name": "#%%\n"
    }
   }
  },
  {
   "cell_type": "code",
   "execution_count": null,
   "outputs": [],
   "source": [],
   "metadata": {
    "collapsed": false,
    "pycharm": {
     "name": "#%%\n"
    }
   }
  }
 ],
 "metadata": {
  "kernelspec": {
   "display_name": "Python 3",
   "language": "python",
   "name": "python3"
  },
  "language_info": {
   "codemirror_mode": {
    "name": "ipython",
    "version": 2
   },
   "file_extension": ".py",
   "mimetype": "text/x-python",
   "name": "python",
   "nbconvert_exporter": "python",
   "pygments_lexer": "ipython2",
   "version": "2.7.6"
  }
 },
 "nbformat": 4,
 "nbformat_minor": 0
}