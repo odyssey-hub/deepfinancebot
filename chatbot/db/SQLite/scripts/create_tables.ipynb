{
 "cells": [
  {
   "cell_type": "code",
   "execution_count": 1,
   "metadata": {
    "collapsed": true,
    "pycharm": {
     "name": "#%%\n"
    }
   },
   "outputs": [],
   "source": [
    "import sqlite3\n",
    "from app import project_dir\n",
    "from finance.FinTimeSeries import FinTimeSeries"
   ]
  },
  {
   "cell_type": "code",
   "execution_count": 2,
   "outputs": [],
   "source": [
    "with open('tickers_big.txt', 'r') as file:\n",
    "    tickers = file.read().splitlines()"
   ],
   "metadata": {
    "collapsed": false,
    "pycharm": {
     "name": "#%%\n"
    }
   }
  },
  {
   "cell_type": "code",
   "execution_count": 3,
   "outputs": [],
   "source": [
    "con = sqlite3.connect(\"BotDB.db\")"
   ],
   "metadata": {
    "collapsed": false,
    "pycharm": {
     "name": "#%%\n"
    }
   }
  },
  {
   "cell_type": "code",
   "execution_count": 4,
   "outputs": [],
   "source": [
    "cursor = con.cursor()\n",
    "timeframe = 24\n",
    "start = '2020.01.01'\n",
    "end = '2024.01.01'\n",
    "for ticker in tickers:\n",
    "    ts = FinTimeSeries(ticker, timeframe, start, end)\n",
    "    ts.data['timeframe'] = 'd'\n",
    "    ts.data.to_sql(name=ticker, con=con, index=False)"
   ],
   "metadata": {
    "collapsed": false,
    "pycharm": {
     "name": "#%%\n"
    }
   }
  },
  {
   "cell_type": "code",
   "execution_count": null,
   "outputs": [],
   "source": [],
   "metadata": {
    "collapsed": false,
    "pycharm": {
     "name": "#%%\n"
    }
   }
  },
  {
   "cell_type": "code",
   "execution_count": 5,
   "outputs": [],
   "source": [
    "import pandas as pd"
   ],
   "metadata": {
    "collapsed": false,
    "pycharm": {
     "name": "#%%\n"
    }
   }
  },
  {
   "cell_type": "code",
   "execution_count": 12,
   "outputs": [
    {
     "data": {
      "text/plain": "                   begin      open      high       low     close        volume\n0    2020-01-03 00:00:00  0.046145  0.046340  0.045995  0.046240   11909550000\n1    2020-01-06 00:00:00  0.046110  0.046195  0.045930  0.046110    8017580000\n2    2020-01-08 00:00:00  0.046210  0.047000  0.046200  0.046525   28820270000\n3    2020-01-09 00:00:00  0.046830  0.047300  0.046575  0.047075   29512690000\n4    2020-01-10 00:00:00  0.047150  0.047890  0.047005  0.047600   29926040000\n..                   ...       ...       ...       ...       ...           ...\n841  2023-05-31 00:00:00  0.022360  0.022475  0.021955  0.022200  176541100000\n842  2023-06-01 00:00:00  0.022250  0.022360  0.021265  0.021425  194516060000\n843  2023-06-02 00:00:00  0.020500  0.022750  0.020230  0.022630  622221870000\n844  2023-06-05 00:00:00  0.022700  0.023030  0.021700  0.021905  299508140000\n845  2023-06-06 00:00:00  0.021830  0.022625  0.021460  0.022320  205321840000\n\n[846 rows x 6 columns]",
      "text/html": "<div>\n<style scoped>\n    .dataframe tbody tr th:only-of-type {\n        vertical-align: middle;\n    }\n\n    .dataframe tbody tr th {\n        vertical-align: top;\n    }\n\n    .dataframe thead th {\n        text-align: right;\n    }\n</style>\n<table border=\"1\" class=\"dataframe\">\n  <thead>\n    <tr style=\"text-align: right;\">\n      <th></th>\n      <th>begin</th>\n      <th>open</th>\n      <th>high</th>\n      <th>low</th>\n      <th>close</th>\n      <th>volume</th>\n    </tr>\n  </thead>\n  <tbody>\n    <tr>\n      <th>0</th>\n      <td>2020-01-03 00:00:00</td>\n      <td>0.046145</td>\n      <td>0.046340</td>\n      <td>0.045995</td>\n      <td>0.046240</td>\n      <td>11909550000</td>\n    </tr>\n    <tr>\n      <th>1</th>\n      <td>2020-01-06 00:00:00</td>\n      <td>0.046110</td>\n      <td>0.046195</td>\n      <td>0.045930</td>\n      <td>0.046110</td>\n      <td>8017580000</td>\n    </tr>\n    <tr>\n      <th>2</th>\n      <td>2020-01-08 00:00:00</td>\n      <td>0.046210</td>\n      <td>0.047000</td>\n      <td>0.046200</td>\n      <td>0.046525</td>\n      <td>28820270000</td>\n    </tr>\n    <tr>\n      <th>3</th>\n      <td>2020-01-09 00:00:00</td>\n      <td>0.046830</td>\n      <td>0.047300</td>\n      <td>0.046575</td>\n      <td>0.047075</td>\n      <td>29512690000</td>\n    </tr>\n    <tr>\n      <th>4</th>\n      <td>2020-01-10 00:00:00</td>\n      <td>0.047150</td>\n      <td>0.047890</td>\n      <td>0.047005</td>\n      <td>0.047600</td>\n      <td>29926040000</td>\n    </tr>\n    <tr>\n      <th>...</th>\n      <td>...</td>\n      <td>...</td>\n      <td>...</td>\n      <td>...</td>\n      <td>...</td>\n      <td>...</td>\n    </tr>\n    <tr>\n      <th>841</th>\n      <td>2023-05-31 00:00:00</td>\n      <td>0.022360</td>\n      <td>0.022475</td>\n      <td>0.021955</td>\n      <td>0.022200</td>\n      <td>176541100000</td>\n    </tr>\n    <tr>\n      <th>842</th>\n      <td>2023-06-01 00:00:00</td>\n      <td>0.022250</td>\n      <td>0.022360</td>\n      <td>0.021265</td>\n      <td>0.021425</td>\n      <td>194516060000</td>\n    </tr>\n    <tr>\n      <th>843</th>\n      <td>2023-06-02 00:00:00</td>\n      <td>0.020500</td>\n      <td>0.022750</td>\n      <td>0.020230</td>\n      <td>0.022630</td>\n      <td>622221870000</td>\n    </tr>\n    <tr>\n      <th>844</th>\n      <td>2023-06-05 00:00:00</td>\n      <td>0.022700</td>\n      <td>0.023030</td>\n      <td>0.021700</td>\n      <td>0.021905</td>\n      <td>299508140000</td>\n    </tr>\n    <tr>\n      <th>845</th>\n      <td>2023-06-06 00:00:00</td>\n      <td>0.021830</td>\n      <td>0.022625</td>\n      <td>0.021460</td>\n      <td>0.022320</td>\n      <td>205321840000</td>\n    </tr>\n  </tbody>\n</table>\n<p>846 rows × 6 columns</p>\n</div>"
     },
     "execution_count": 12,
     "metadata": {},
     "output_type": "execute_result"
    }
   ],
   "source": [
    "ticker = 'VTBR'\n",
    "df = pd.read_sql(f'select * from {ticker}', con=con)\n",
    "df = df.drop(columns=['timeframe'])\n",
    "df"
   ],
   "metadata": {
    "collapsed": false,
    "pycharm": {
     "name": "#%%\n"
    }
   }
  },
  {
   "cell_type": "code",
   "execution_count": 29,
   "outputs": [
    {
     "data": {
      "text/plain": "Empty DataFrame\nColumns: [begin, open, high, low, close, volume]\nIndex: []",
      "text/html": "<div>\n<style scoped>\n    .dataframe tbody tr th:only-of-type {\n        vertical-align: middle;\n    }\n\n    .dataframe tbody tr th {\n        vertical-align: top;\n    }\n\n    .dataframe thead th {\n        text-align: right;\n    }\n</style>\n<table border=\"1\" class=\"dataframe\">\n  <thead>\n    <tr style=\"text-align: right;\">\n      <th></th>\n      <th>begin</th>\n      <th>open</th>\n      <th>high</th>\n      <th>low</th>\n      <th>close</th>\n      <th>volume</th>\n    </tr>\n  </thead>\n  <tbody>\n  </tbody>\n</table>\n</div>"
     },
     "execution_count": 29,
     "metadata": {},
     "output_type": "execute_result"
    }
   ],
   "source": [
    "ticker = 'VTBR'\n",
    "\n",
    "df = pd.read_sql('select * from LKOH where open BETWEEN :pl and :ph', params={'pl': 56, 'ph': 62}, con=con)\n",
    "df"
   ],
   "metadata": {
    "collapsed": false,
    "pycharm": {
     "name": "#%%\n"
    }
   }
  },
  {
   "cell_type": "code",
   "execution_count": null,
   "outputs": [],
   "source": [],
   "metadata": {
    "collapsed": false,
    "pycharm": {
     "name": "#%%\n"
    }
   }
  },
  {
   "cell_type": "code",
   "execution_count": 31,
   "outputs": [
    {
     "data": {
      "text/plain": "                   begin    open    high     low   close   volume\n0    2022-01-03 00:00:00  6592.0  6705.5  6586.0  6683.0   610921\n1    2022-01-04 00:00:00  6688.0  6741.0  6627.0  6728.0   551239\n2    2022-01-05 00:00:00  6715.5  6755.0  6501.0  6522.0   972892\n3    2022-01-06 00:00:00  6530.0  6706.0  6459.0  6699.0   906403\n4    2022-01-10 00:00:00  6730.0  6880.0  6650.5  6775.0  1238121\n..                   ...     ...     ...     ...     ...      ...\n229  2022-12-26 00:00:00  4014.0  4047.0  4000.0  4010.0   380715\n230  2022-12-27 00:00:00  4020.0  4035.0  4011.0  4028.5   392368\n231  2022-12-28 00:00:00  4032.5  4040.0  4010.0  4015.5   374999\n232  2022-12-29 00:00:00  4017.0  4035.0  4015.5  4022.0   274674\n233  2022-12-30 00:00:00  4030.5  4088.0  4022.5  4069.5   454463\n\n[234 rows x 6 columns]",
      "text/html": "<div>\n<style scoped>\n    .dataframe tbody tr th:only-of-type {\n        vertical-align: middle;\n    }\n\n    .dataframe tbody tr th {\n        vertical-align: top;\n    }\n\n    .dataframe thead th {\n        text-align: right;\n    }\n</style>\n<table border=\"1\" class=\"dataframe\">\n  <thead>\n    <tr style=\"text-align: right;\">\n      <th></th>\n      <th>begin</th>\n      <th>open</th>\n      <th>high</th>\n      <th>low</th>\n      <th>close</th>\n      <th>volume</th>\n    </tr>\n  </thead>\n  <tbody>\n    <tr>\n      <th>0</th>\n      <td>2022-01-03 00:00:00</td>\n      <td>6592.0</td>\n      <td>6705.5</td>\n      <td>6586.0</td>\n      <td>6683.0</td>\n      <td>610921</td>\n    </tr>\n    <tr>\n      <th>1</th>\n      <td>2022-01-04 00:00:00</td>\n      <td>6688.0</td>\n      <td>6741.0</td>\n      <td>6627.0</td>\n      <td>6728.0</td>\n      <td>551239</td>\n    </tr>\n    <tr>\n      <th>2</th>\n      <td>2022-01-05 00:00:00</td>\n      <td>6715.5</td>\n      <td>6755.0</td>\n      <td>6501.0</td>\n      <td>6522.0</td>\n      <td>972892</td>\n    </tr>\n    <tr>\n      <th>3</th>\n      <td>2022-01-06 00:00:00</td>\n      <td>6530.0</td>\n      <td>6706.0</td>\n      <td>6459.0</td>\n      <td>6699.0</td>\n      <td>906403</td>\n    </tr>\n    <tr>\n      <th>4</th>\n      <td>2022-01-10 00:00:00</td>\n      <td>6730.0</td>\n      <td>6880.0</td>\n      <td>6650.5</td>\n      <td>6775.0</td>\n      <td>1238121</td>\n    </tr>\n    <tr>\n      <th>...</th>\n      <td>...</td>\n      <td>...</td>\n      <td>...</td>\n      <td>...</td>\n      <td>...</td>\n      <td>...</td>\n    </tr>\n    <tr>\n      <th>229</th>\n      <td>2022-12-26 00:00:00</td>\n      <td>4014.0</td>\n      <td>4047.0</td>\n      <td>4000.0</td>\n      <td>4010.0</td>\n      <td>380715</td>\n    </tr>\n    <tr>\n      <th>230</th>\n      <td>2022-12-27 00:00:00</td>\n      <td>4020.0</td>\n      <td>4035.0</td>\n      <td>4011.0</td>\n      <td>4028.5</td>\n      <td>392368</td>\n    </tr>\n    <tr>\n      <th>231</th>\n      <td>2022-12-28 00:00:00</td>\n      <td>4032.5</td>\n      <td>4040.0</td>\n      <td>4010.0</td>\n      <td>4015.5</td>\n      <td>374999</td>\n    </tr>\n    <tr>\n      <th>232</th>\n      <td>2022-12-29 00:00:00</td>\n      <td>4017.0</td>\n      <td>4035.0</td>\n      <td>4015.5</td>\n      <td>4022.0</td>\n      <td>274674</td>\n    </tr>\n    <tr>\n      <th>233</th>\n      <td>2022-12-30 00:00:00</td>\n      <td>4030.5</td>\n      <td>4088.0</td>\n      <td>4022.5</td>\n      <td>4069.5</td>\n      <td>454463</td>\n    </tr>\n  </tbody>\n</table>\n<p>234 rows × 6 columns</p>\n</div>"
     },
     "execution_count": 31,
     "metadata": {},
     "output_type": "execute_result"
    }
   ],
   "source": [
    "start = '2022-01-01'\n",
    "end = '2023-01-01'\n",
    "df = pd.read_sql(''' SELECT * FROM LKOH WHERE begin BETWEEN :start and :end  ''', con=con, params={'start': start, 'end':end})\n",
    "df"
   ],
   "metadata": {
    "collapsed": false,
    "pycharm": {
     "name": "#%%\n"
    }
   }
  },
  {
   "cell_type": "code",
   "execution_count": 7,
   "outputs": [
    {
     "data": {
      "text/plain": "                    begin    open    high     low   close   volume\n0     2021-01-04 09:00:00  274.67  274.67  274.67  274.67   123460\n1     2021-01-04 10:00:00  274.67  274.67  273.10  273.94  5217270\n2     2021-01-04 11:00:00  273.99  274.49  272.54  273.95  5296560\n3     2021-01-04 12:00:00  273.95  276.28  273.93  276.00  7927210\n4     2021-01-04 13:00:00  275.98  276.23  275.02  275.30  2635420\n...                   ...     ...     ...     ...     ...      ...\n3877  2021-12-30 19:00:00  293.61  294.15  293.00  293.85  1320830\n3878  2021-12-30 20:00:00  293.85  294.15  293.58  294.00   618200\n3879  2021-12-30 21:00:00  294.00  294.89  293.88  294.81  1946960\n3880  2021-12-30 22:00:00  294.81  294.81  294.00  294.05   762560\n3881  2021-12-30 23:00:00  294.06  294.24  293.11  293.49   960310\n\n[3882 rows x 6 columns]",
      "text/html": "<div>\n<style scoped>\n    .dataframe tbody tr th:only-of-type {\n        vertical-align: middle;\n    }\n\n    .dataframe tbody tr th {\n        vertical-align: top;\n    }\n\n    .dataframe thead th {\n        text-align: right;\n    }\n</style>\n<table border=\"1\" class=\"dataframe\">\n  <thead>\n    <tr style=\"text-align: right;\">\n      <th></th>\n      <th>begin</th>\n      <th>open</th>\n      <th>high</th>\n      <th>low</th>\n      <th>close</th>\n      <th>volume</th>\n    </tr>\n  </thead>\n  <tbody>\n    <tr>\n      <th>0</th>\n      <td>2021-01-04 09:00:00</td>\n      <td>274.67</td>\n      <td>274.67</td>\n      <td>274.67</td>\n      <td>274.67</td>\n      <td>123460</td>\n    </tr>\n    <tr>\n      <th>1</th>\n      <td>2021-01-04 10:00:00</td>\n      <td>274.67</td>\n      <td>274.67</td>\n      <td>273.10</td>\n      <td>273.94</td>\n      <td>5217270</td>\n    </tr>\n    <tr>\n      <th>2</th>\n      <td>2021-01-04 11:00:00</td>\n      <td>273.99</td>\n      <td>274.49</td>\n      <td>272.54</td>\n      <td>273.95</td>\n      <td>5296560</td>\n    </tr>\n    <tr>\n      <th>3</th>\n      <td>2021-01-04 12:00:00</td>\n      <td>273.95</td>\n      <td>276.28</td>\n      <td>273.93</td>\n      <td>276.00</td>\n      <td>7927210</td>\n    </tr>\n    <tr>\n      <th>4</th>\n      <td>2021-01-04 13:00:00</td>\n      <td>275.98</td>\n      <td>276.23</td>\n      <td>275.02</td>\n      <td>275.30</td>\n      <td>2635420</td>\n    </tr>\n    <tr>\n      <th>...</th>\n      <td>...</td>\n      <td>...</td>\n      <td>...</td>\n      <td>...</td>\n      <td>...</td>\n      <td>...</td>\n    </tr>\n    <tr>\n      <th>3877</th>\n      <td>2021-12-30 19:00:00</td>\n      <td>293.61</td>\n      <td>294.15</td>\n      <td>293.00</td>\n      <td>293.85</td>\n      <td>1320830</td>\n    </tr>\n    <tr>\n      <th>3878</th>\n      <td>2021-12-30 20:00:00</td>\n      <td>293.85</td>\n      <td>294.15</td>\n      <td>293.58</td>\n      <td>294.00</td>\n      <td>618200</td>\n    </tr>\n    <tr>\n      <th>3879</th>\n      <td>2021-12-30 21:00:00</td>\n      <td>294.00</td>\n      <td>294.89</td>\n      <td>293.88</td>\n      <td>294.81</td>\n      <td>1946960</td>\n    </tr>\n    <tr>\n      <th>3880</th>\n      <td>2021-12-30 22:00:00</td>\n      <td>294.81</td>\n      <td>294.81</td>\n      <td>294.00</td>\n      <td>294.05</td>\n      <td>762560</td>\n    </tr>\n    <tr>\n      <th>3881</th>\n      <td>2021-12-30 23:00:00</td>\n      <td>294.06</td>\n      <td>294.24</td>\n      <td>293.11</td>\n      <td>293.49</td>\n      <td>960310</td>\n    </tr>\n  </tbody>\n</table>\n<p>3882 rows × 6 columns</p>\n</div>"
     },
     "execution_count": 7,
     "metadata": {},
     "output_type": "execute_result"
    }
   ],
   "source": [
    "ts = FinTimeSeries('SBER', 60, '2021.01.01', '2022.01.01')\n",
    "ts.data"
   ],
   "metadata": {
    "collapsed": false,
    "pycharm": {
     "name": "#%%\n"
    }
   }
  },
  {
   "cell_type": "code",
   "execution_count": null,
   "outputs": [],
   "source": [],
   "metadata": {
    "collapsed": false,
    "pycharm": {
     "name": "#%%\n"
    }
   }
  }
 ],
 "metadata": {
  "kernelspec": {
   "display_name": "Python 3",
   "language": "python",
   "name": "python3"
  },
  "language_info": {
   "codemirror_mode": {
    "name": "ipython",
    "version": 2
   },
   "file_extension": ".py",
   "mimetype": "text/x-python",
   "name": "python",
   "nbconvert_exporter": "python",
   "pygments_lexer": "ipython2",
   "version": "2.7.6"
  }
 },
 "nbformat": 4,
 "nbformat_minor": 0
}